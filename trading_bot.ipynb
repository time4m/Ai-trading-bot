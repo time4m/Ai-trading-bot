{
  "nbformat": 4,
  "nbformat_minor": 0,
  "metadata": {
    "colab": {
      "provenance": [],
      "include_colab_link": true
    },
    "kernelspec": {
      "name": "python3",
      "display_name": "Python 3"
    },
    "language_info": {
      "name": "python"
    }
  },
  "cells": [
    {
      "cell_type": "markdown",
      "metadata": {
        "id": "view-in-github",
        "colab_type": "text"
      },
      "source": [
        "<a href=\"https://colab.research.google.com/github/time4m/Ai-trading-bot/blob/main/trading_bot.ipynb\" target=\"_parent\"><img src=\"https://colab.research.google.com/assets/colab-badge.svg\" alt=\"Open In Colab\"/></a>"
      ]
    },
    {
      "cell_type": "code",
      "source": [
        "# ✅ Step 1: Install required libraries\n",
        "!pip install yfinance ta scikit-learn\n",
        "\n",
        "# ✅ Step 2: Import libraries\n",
        "import yfinance as yf\n",
        "import pandas as pd\n",
        "import ta\n",
        "from sklearn.ensemble import RandomForestClassifier\n",
        "from sklearn.model_selection import train_test_split\n",
        "from sklearn.metrics import accuracy_score\n",
        "\n",
        "# ✅ Step 3: Download historical data\n",
        "symbol = \"AAPL\"  # Change this to your desired stock, e.g., \"TATASTEEL.NS\" for Indian stock\n",
        "data = yf.download(symbol, start=\"2022-01-01\", end=\"2024-01-01\")\n",
        "\n",
        "# ✅ Step 4: Calculate indicators\n",
        "data['SMA_10'] = data['Close'].rolling(window=10).mean()\n",
        "data['SMA_50'] = data['Close'].rolling(window=50).mean()\n",
        "\n",
        "# ✅ Fix Close column to 1D Series for indicator calculations\n",
        "close_series = pd.Series(data['Close'].values.flatten(), index=data.index)\n",
        "\n",
        "# RSI\n",
        "data['RSI'] = ta.momentum.RSIIndicator(close=close_series).rsi()\n",
        "\n",
        "# MACD\n",
        "macd = ta.trend.MACD(close=close_series)\n",
        "data['MACD'] = macd.macd()\n",
        "data['MACD_signal'] = macd.macd_signal()\n",
        "\n",
        "# Bollinger Bands\n",
        "bb = ta.volatility.BollingerBands(close=close_series)\n",
        "data['BB_upper'] = bb.bollinger_hband()\n",
        "data['BB_lower'] = bb.bollinger_lband()\n",
        "\n",
        "# ✅ Step 5: Clean and prepare data\n",
        "data.dropna(inplace=True)\n",
        "\n",
        "# Target: Will price go UP tomorrow?\n",
        "data['Target'] = (data['Close'].shift(-1) > data['Close']).astype(int)\n",
        "\n",
        "# ✅ Step 6: Feature and label selection\n",
        "features = ['SMA_10', 'SMA_50', 'RSI', 'MACD', 'MACD_signal', 'BB_upper', 'BB_lower']\n",
        "X = data[features]\n",
        "y = data['Target']\n",
        "\n",
        "# ✅ Step 7: Train/test split\n",
        "X_train, X_test, y_train, y_test = train_test_split(X, y, shuffle=False, test_size=0.2)\n",
        "\n",
        "# ✅ Step 8: Train the model\n",
        "model = RandomForestClassifier(n_estimators=100, random_state=42)\n",
        "model.fit(X_train, y_train)\n",
        "\n",
        "# ✅ Step 9: Make predictions\n",
        "predictions = model.predict(X_test)\n",
        "accuracy = accuracy_score(y_test, predictions)\n",
        "print(f\"✅ Model Accuracy: {accuracy * 100:.2f}%\")\n",
        "\n",
        "# ✅ Step 10: Optional — See predictions with dates\n",
        "results = X_test.copy()\n",
        "results['Prediction'] = predictions\n",
        "results['Actual'] = y_test\n",
        "print(results.tail(10))"
      ],
      "metadata": {
        "colab": {
          "base_uri": "https://localhost:8080/"
        },
        "id": "HjyatPQbSDra",
        "outputId": "d2af63aa-eaec-47b7-e643-970960bf6f4e",
        "collapsed": true
      },
      "execution_count": null,
      "outputs": [
        {
          "output_type": "stream",
          "name": "stdout",
          "text": [
            "Requirement already satisfied: yfinance in /usr/local/lib/python3.11/dist-packages (0.2.65)\n",
            "Requirement already satisfied: ta in /usr/local/lib/python3.11/dist-packages (0.11.0)\n",
            "Requirement already satisfied: scikit-learn in /usr/local/lib/python3.11/dist-packages (1.6.1)\n",
            "Requirement already satisfied: pandas>=1.3.0 in /usr/local/lib/python3.11/dist-packages (from yfinance) (2.2.2)\n",
            "Requirement already satisfied: numpy>=1.16.5 in /usr/local/lib/python3.11/dist-packages (from yfinance) (2.0.2)\n",
            "Requirement already satisfied: requests>=2.31 in /usr/local/lib/python3.11/dist-packages (from yfinance) (2.32.3)\n",
            "Requirement already satisfied: multitasking>=0.0.7 in /usr/local/lib/python3.11/dist-packages (from yfinance) (0.0.12)\n",
            "Requirement already satisfied: platformdirs>=2.0.0 in /usr/local/lib/python3.11/dist-packages (from yfinance) (4.3.8)\n",
            "Requirement already satisfied: pytz>=2022.5 in /usr/local/lib/python3.11/dist-packages (from yfinance) (2025.2)\n",
            "Requirement already satisfied: frozendict>=2.3.4 in /usr/local/lib/python3.11/dist-packages (from yfinance) (2.4.6)\n",
            "Requirement already satisfied: peewee>=3.16.2 in /usr/local/lib/python3.11/dist-packages (from yfinance) (3.18.2)\n",
            "Requirement already satisfied: beautifulsoup4>=4.11.1 in /usr/local/lib/python3.11/dist-packages (from yfinance) (4.13.4)\n",
            "Requirement already satisfied: curl_cffi>=0.7 in /usr/local/lib/python3.11/dist-packages (from yfinance) (0.12.0)\n",
            "Requirement already satisfied: protobuf>=3.19.0 in /usr/local/lib/python3.11/dist-packages (from yfinance) (5.29.5)\n",
            "Requirement already satisfied: websockets>=13.0 in /usr/local/lib/python3.11/dist-packages (from yfinance) (15.0.1)\n",
            "Requirement already satisfied: scipy>=1.6.0 in /usr/local/lib/python3.11/dist-packages (from scikit-learn) (1.16.0)\n",
            "Requirement already satisfied: joblib>=1.2.0 in /usr/local/lib/python3.11/dist-packages (from scikit-learn) (1.5.1)\n",
            "Requirement already satisfied: threadpoolctl>=3.1.0 in /usr/local/lib/python3.11/dist-packages (from scikit-learn) (3.6.0)\n",
            "Requirement already satisfied: soupsieve>1.2 in /usr/local/lib/python3.11/dist-packages (from beautifulsoup4>=4.11.1->yfinance) (2.7)\n",
            "Requirement already satisfied: typing-extensions>=4.0.0 in /usr/local/lib/python3.11/dist-packages (from beautifulsoup4>=4.11.1->yfinance) (4.14.1)\n",
            "Requirement already satisfied: cffi>=1.12.0 in /usr/local/lib/python3.11/dist-packages (from curl_cffi>=0.7->yfinance) (1.17.1)\n",
            "Requirement already satisfied: certifi>=2024.2.2 in /usr/local/lib/python3.11/dist-packages (from curl_cffi>=0.7->yfinance) (2025.7.14)\n",
            "Requirement already satisfied: python-dateutil>=2.8.2 in /usr/local/lib/python3.11/dist-packages (from pandas>=1.3.0->yfinance) (2.9.0.post0)\n",
            "Requirement already satisfied: tzdata>=2022.7 in /usr/local/lib/python3.11/dist-packages (from pandas>=1.3.0->yfinance) (2025.2)\n",
            "Requirement already satisfied: charset-normalizer<4,>=2 in /usr/local/lib/python3.11/dist-packages (from requests>=2.31->yfinance) (3.4.2)\n",
            "Requirement already satisfied: idna<4,>=2.5 in /usr/local/lib/python3.11/dist-packages (from requests>=2.31->yfinance) (3.10)\n",
            "Requirement already satisfied: urllib3<3,>=1.21.1 in /usr/local/lib/python3.11/dist-packages (from requests>=2.31->yfinance) (2.5.0)\n",
            "Requirement already satisfied: pycparser in /usr/local/lib/python3.11/dist-packages (from cffi>=1.12.0->curl_cffi>=0.7->yfinance) (2.22)\n",
            "Requirement already satisfied: six>=1.5 in /usr/local/lib/python3.11/dist-packages (from python-dateutil>=2.8.2->pandas>=1.3.0->yfinance) (1.17.0)\n"
          ]
        },
        {
          "output_type": "stream",
          "name": "stderr",
          "text": [
            "/tmp/ipython-input-2601876889.py:14: FutureWarning: YF.download() has changed argument auto_adjust default to True\n",
            "  data = yf.download(symbol, start=\"2022-01-01\", end=\"2024-01-01\")\n",
            "\r[*********************100%***********************]  1 of 1 completed\n"
          ]
        },
        {
          "output_type": "stream",
          "name": "stdout",
          "text": [
            "✅ Model Accuracy: 62.64%\n",
            "Price           SMA_10      SMA_50        RSI      MACD MACD_signal  \\\n",
            "Ticker                                                                \n",
            "Date                                                                  \n",
            "2023-12-15  193.252791  182.336481  67.991893  3.753795    3.582483   \n",
            "2023-12-18  193.894096  182.706443  62.680216  3.589653    3.583917   \n",
            "2023-12-19  194.243538  183.067509  64.544514  3.503294    3.567792   \n",
            "2023-12-20  194.492714  183.398578  58.247524  3.228617    3.499957   \n",
            "2023-12-21  194.533415  183.698712  57.815645  2.964740    3.392914   \n",
            "2023-12-22  194.323950  183.959358  54.672838  2.638687    3.242068   \n",
            "2023-12-26  194.311044  184.245966  53.090059  2.309606    3.055576   \n",
            "2023-12-27  194.156177  184.537136  53.354430  2.033376    2.851136   \n",
            "2023-12-28  193.721359  184.867975  54.540956  1.827837    2.646476   \n",
            "2023-12-29  193.167416  185.203941  51.121315  1.562820    2.429745   \n",
            "\n",
            "Price         BB_upper    BB_lower Prediction Actual  \n",
            "Ticker                                                \n",
            "Date                                                  \n",
            "2023-12-15  196.844589  185.405153          0      0  \n",
            "2023-12-18  197.175897  185.689337          0      1  \n",
            "2023-12-19  197.674427  185.735818          0      0  \n",
            "2023-12-20  197.815798  186.010402          0      0  \n",
            "2023-12-21  197.937008  186.223742          0      0  \n",
            "2023-12-22  197.893920  186.627192          0      0  \n",
            "2023-12-26  197.783386  187.061358          0      1  \n",
            "2023-12-27  197.700521  187.417224          0      1  \n",
            "2023-12-28  197.471332  188.064351          0      0  \n",
            "2023-12-29  197.262551  188.529255          0      0  \n"
          ]
        }
      ]
    },
    {
      "cell_type": "code",
      "source": [
        "!pip install yfinance ta scikit-learn pandas numpy"
      ],
      "metadata": {
        "colab": {
          "base_uri": "https://localhost:8080/"
        },
        "id": "tsUBvkaVZY-A",
        "outputId": "c39ac4d4-516b-497d-9a32-efc4ce35c8e8",
        "collapsed": true
      },
      "execution_count": null,
      "outputs": [
        {
          "output_type": "stream",
          "name": "stdout",
          "text": [
            "Requirement already satisfied: yfinance in /usr/local/lib/python3.11/dist-packages (0.2.65)\n",
            "Requirement already satisfied: ta in /usr/local/lib/python3.11/dist-packages (0.11.0)\n",
            "Requirement already satisfied: scikit-learn in /usr/local/lib/python3.11/dist-packages (1.6.1)\n",
            "Requirement already satisfied: pandas in /usr/local/lib/python3.11/dist-packages (2.2.2)\n",
            "Requirement already satisfied: numpy in /usr/local/lib/python3.11/dist-packages (2.0.2)\n",
            "Requirement already satisfied: requests>=2.31 in /usr/local/lib/python3.11/dist-packages (from yfinance) (2.32.3)\n",
            "Requirement already satisfied: multitasking>=0.0.7 in /usr/local/lib/python3.11/dist-packages (from yfinance) (0.0.12)\n",
            "Requirement already satisfied: platformdirs>=2.0.0 in /usr/local/lib/python3.11/dist-packages (from yfinance) (4.3.8)\n",
            "Requirement already satisfied: pytz>=2022.5 in /usr/local/lib/python3.11/dist-packages (from yfinance) (2025.2)\n",
            "Requirement already satisfied: frozendict>=2.3.4 in /usr/local/lib/python3.11/dist-packages (from yfinance) (2.4.6)\n",
            "Requirement already satisfied: peewee>=3.16.2 in /usr/local/lib/python3.11/dist-packages (from yfinance) (3.18.2)\n",
            "Requirement already satisfied: beautifulsoup4>=4.11.1 in /usr/local/lib/python3.11/dist-packages (from yfinance) (4.13.4)\n",
            "Requirement already satisfied: curl_cffi>=0.7 in /usr/local/lib/python3.11/dist-packages (from yfinance) (0.12.0)\n",
            "Requirement already satisfied: protobuf>=3.19.0 in /usr/local/lib/python3.11/dist-packages (from yfinance) (5.29.5)\n",
            "Requirement already satisfied: websockets>=13.0 in /usr/local/lib/python3.11/dist-packages (from yfinance) (15.0.1)\n",
            "Requirement already satisfied: scipy>=1.6.0 in /usr/local/lib/python3.11/dist-packages (from scikit-learn) (1.16.0)\n",
            "Requirement already satisfied: joblib>=1.2.0 in /usr/local/lib/python3.11/dist-packages (from scikit-learn) (1.5.1)\n",
            "Requirement already satisfied: threadpoolctl>=3.1.0 in /usr/local/lib/python3.11/dist-packages (from scikit-learn) (3.6.0)\n",
            "Requirement already satisfied: python-dateutil>=2.8.2 in /usr/local/lib/python3.11/dist-packages (from pandas) (2.9.0.post0)\n",
            "Requirement already satisfied: tzdata>=2022.7 in /usr/local/lib/python3.11/dist-packages (from pandas) (2025.2)\n",
            "Requirement already satisfied: soupsieve>1.2 in /usr/local/lib/python3.11/dist-packages (from beautifulsoup4>=4.11.1->yfinance) (2.7)\n",
            "Requirement already satisfied: typing-extensions>=4.0.0 in /usr/local/lib/python3.11/dist-packages (from beautifulsoup4>=4.11.1->yfinance) (4.14.1)\n",
            "Requirement already satisfied: cffi>=1.12.0 in /usr/local/lib/python3.11/dist-packages (from curl_cffi>=0.7->yfinance) (1.17.1)\n",
            "Requirement already satisfied: certifi>=2024.2.2 in /usr/local/lib/python3.11/dist-packages (from curl_cffi>=0.7->yfinance) (2025.7.14)\n",
            "Requirement already satisfied: six>=1.5 in /usr/local/lib/python3.11/dist-packages (from python-dateutil>=2.8.2->pandas) (1.17.0)\n",
            "Requirement already satisfied: charset-normalizer<4,>=2 in /usr/local/lib/python3.11/dist-packages (from requests>=2.31->yfinance) (3.4.2)\n",
            "Requirement already satisfied: idna<4,>=2.5 in /usr/local/lib/python3.11/dist-packages (from requests>=2.31->yfinance) (3.10)\n",
            "Requirement already satisfied: urllib3<3,>=1.21.1 in /usr/local/lib/python3.11/dist-packages (from requests>=2.31->yfinance) (2.5.0)\n",
            "Requirement already satisfied: pycparser in /usr/local/lib/python3.11/dist-packages (from cffi>=1.12.0->curl_cffi>=0.7->yfinance) (2.22)\n"
          ]
        }
      ]
    },
    {
      "cell_type": "code",
      "source": [
        "data = yf.download(symbol, start=\"2022-01-01\", end=\"2025-08-01\")"
      ],
      "metadata": {
        "colab": {
          "base_uri": "https://localhost:8080/"
        },
        "collapsed": true,
        "id": "LwKCjWhigexC",
        "outputId": "dccbd460-79a6-405e-ef85-47c36c32ba76"
      },
      "execution_count": null,
      "outputs": [
        {
          "output_type": "stream",
          "name": "stderr",
          "text": [
            "/tmp/ipython-input-4213743901.py:1: FutureWarning: YF.download() has changed argument auto_adjust default to True\n",
            "  data = yf.download(symbol, start=\"2022-01-01\", end=\"2025-08-01\")\n",
            "[*********************100%***********************]  1 of 1 completed\n"
          ]
        }
      ]
    },
    {
      "cell_type": "code",
      "source": [
        "!pip install yfinance ta scikit-learn"
      ],
      "metadata": {
        "colab": {
          "base_uri": "https://localhost:8080/"
        },
        "collapsed": true,
        "id": "t_ADc-jh9LZW",
        "outputId": "07c4da2b-4cd1-41c2-f058-52f037be3f23"
      },
      "execution_count": null,
      "outputs": [
        {
          "output_type": "stream",
          "name": "stdout",
          "text": [
            "Requirement already satisfied: yfinance in /usr/local/lib/python3.11/dist-packages (0.2.65)\n",
            "Requirement already satisfied: ta in /usr/local/lib/python3.11/dist-packages (0.11.0)\n",
            "Requirement already satisfied: scikit-learn in /usr/local/lib/python3.11/dist-packages (1.6.1)\n",
            "Requirement already satisfied: pandas>=1.3.0 in /usr/local/lib/python3.11/dist-packages (from yfinance) (2.2.2)\n",
            "Requirement already satisfied: numpy>=1.16.5 in /usr/local/lib/python3.11/dist-packages (from yfinance) (2.0.2)\n",
            "Requirement already satisfied: requests>=2.31 in /usr/local/lib/python3.11/dist-packages (from yfinance) (2.32.3)\n",
            "Requirement already satisfied: multitasking>=0.0.7 in /usr/local/lib/python3.11/dist-packages (from yfinance) (0.0.12)\n",
            "Requirement already satisfied: platformdirs>=2.0.0 in /usr/local/lib/python3.11/dist-packages (from yfinance) (4.3.8)\n",
            "Requirement already satisfied: pytz>=2022.5 in /usr/local/lib/python3.11/dist-packages (from yfinance) (2025.2)\n",
            "Requirement already satisfied: frozendict>=2.3.4 in /usr/local/lib/python3.11/dist-packages (from yfinance) (2.4.6)\n",
            "Requirement already satisfied: peewee>=3.16.2 in /usr/local/lib/python3.11/dist-packages (from yfinance) (3.18.2)\n",
            "Requirement already satisfied: beautifulsoup4>=4.11.1 in /usr/local/lib/python3.11/dist-packages (from yfinance) (4.13.4)\n",
            "Requirement already satisfied: curl_cffi>=0.7 in /usr/local/lib/python3.11/dist-packages (from yfinance) (0.12.0)\n",
            "Requirement already satisfied: protobuf>=3.19.0 in /usr/local/lib/python3.11/dist-packages (from yfinance) (5.29.5)\n",
            "Requirement already satisfied: websockets>=13.0 in /usr/local/lib/python3.11/dist-packages (from yfinance) (15.0.1)\n",
            "Requirement already satisfied: scipy>=1.6.0 in /usr/local/lib/python3.11/dist-packages (from scikit-learn) (1.16.0)\n",
            "Requirement already satisfied: joblib>=1.2.0 in /usr/local/lib/python3.11/dist-packages (from scikit-learn) (1.5.1)\n",
            "Requirement already satisfied: threadpoolctl>=3.1.0 in /usr/local/lib/python3.11/dist-packages (from scikit-learn) (3.6.0)\n",
            "Requirement already satisfied: soupsieve>1.2 in /usr/local/lib/python3.11/dist-packages (from beautifulsoup4>=4.11.1->yfinance) (2.7)\n",
            "Requirement already satisfied: typing-extensions>=4.0.0 in /usr/local/lib/python3.11/dist-packages (from beautifulsoup4>=4.11.1->yfinance) (4.14.1)\n",
            "Requirement already satisfied: cffi>=1.12.0 in /usr/local/lib/python3.11/dist-packages (from curl_cffi>=0.7->yfinance) (1.17.1)\n",
            "Requirement already satisfied: certifi>=2024.2.2 in /usr/local/lib/python3.11/dist-packages (from curl_cffi>=0.7->yfinance) (2025.7.14)\n",
            "Requirement already satisfied: python-dateutil>=2.8.2 in /usr/local/lib/python3.11/dist-packages (from pandas>=1.3.0->yfinance) (2.9.0.post0)\n",
            "Requirement already satisfied: tzdata>=2022.7 in /usr/local/lib/python3.11/dist-packages (from pandas>=1.3.0->yfinance) (2025.2)\n",
            "Requirement already satisfied: charset-normalizer<4,>=2 in /usr/local/lib/python3.11/dist-packages (from requests>=2.31->yfinance) (3.4.2)\n",
            "Requirement already satisfied: idna<4,>=2.5 in /usr/local/lib/python3.11/dist-packages (from requests>=2.31->yfinance) (3.10)\n",
            "Requirement already satisfied: urllib3<3,>=1.21.1 in /usr/local/lib/python3.11/dist-packages (from requests>=2.31->yfinance) (2.5.0)\n",
            "Requirement already satisfied: pycparser in /usr/local/lib/python3.11/dist-packages (from cffi>=1.12.0->curl_cffi>=0.7->yfinance) (2.22)\n",
            "Requirement already satisfied: six>=1.5 in /usr/local/lib/python3.11/dist-packages (from python-dateutil>=2.8.2->pandas>=1.3.0->yfinance) (1.17.0)\n"
          ]
        }
      ]
    },
    {
      "cell_type": "code",
      "source": [
        "# ✅ STEP 1: Install required libraries (only once)\n",
        "!pip install yfinance ta scikit-learn --quiet\n",
        "\n",
        "# ✅ STEP 2: Import modules\n",
        "import yfinance as yf\n",
        "import pandas as pd\n",
        "import numpy as np\n",
        "from ta.trend import SMAIndicator, MACD\n",
        "from ta.momentum import RSIIndicator\n",
        "from sklearn.ensemble import RandomForestClassifier\n",
        "from sklearn.model_selection import train_test_split\n",
        "from sklearn.metrics import classification_report\n",
        "\n",
        "# ✅ STEP 3: Download historical data\n",
        "symbol = \"AAPL\"  # You can change this to any valid stock symbol like \"RELIANCE.NS\"\n",
        "data = yf.download(symbol, start=\"2022-01-01\", end=\"2025-08-01\")\n",
        "print(\"✅ Data downloaded\")\n",
        "\n",
        "# ✅ STEP 4: Add indicators\n",
        "# Access the 'Close' column using the MultiIndex\n",
        "close_prices = data[('Close', symbol)]\n",
        "data['SMA_10'] = SMAIndicator(close=close_prices, window=10).sma_indicator()\n",
        "data['SMA_50'] = SMAIndicator(close=close_prices, window=50).sma_indicator()\n",
        "data['RSI'] = RSIIndicator(close=close_prices).rsi()\n",
        "data['MACD'] = MACD(close=close_prices).macd()\n",
        "\n",
        "# ✅ STEP 5: Drop missing values\n",
        "data.dropna(inplace=True)\n",
        "\n",
        "# ✅ STEP 6: Create target variable: 1 = Buy, -1 = Sell\n",
        "data['Target'] = 0\n",
        "data.loc[data[('Close', symbol)].shift(-1) > data[('Close', symbol)], 'Target'] = 1\n",
        "data.loc[data[('Close', symbol)].shift(-1) < data[('Close', symbol)], 'Target'] = -1\n",
        "\n",
        "# ✅ STEP 7: Prepare features and labels\n",
        "features = ['SMA_10', 'SMA_50', 'RSI', 'MACD']\n",
        "X = data[features]\n",
        "y = data['Target']\n",
        "\n",
        "# ✅ STEP 8: Split data for training & testing\n",
        "X_train, X_test, y_train, y_test = train_test_split(X, y, test_size=0.2, shuffle=False)\n",
        "\n",
        "# ✅ STEP 9: Train model\n",
        "model = RandomForestClassifier(n_estimators=100, random_state=42)\n",
        "model.fit(X_train, y_train)\n",
        "\n",
        "# ✅ STEP 10: Make predictions & evaluate\n",
        "predictions = model.predict(X_test)\n",
        "print(\"✅ Accuracy Report:\\n\")\n",
        "print(classification_report(y_test, predictions, digits=2))"
      ],
      "metadata": {
        "colab": {
          "base_uri": "https://localhost:8080/"
        },
        "id": "1xiQ3l1M90HZ",
        "outputId": "98181630-71a0-4e54-fd21-052ddea7e5a2"
      },
      "execution_count": null,
      "outputs": [
        {
          "output_type": "stream",
          "name": "stderr",
          "text": [
            "/tmp/ipython-input-1071091511.py:16: FutureWarning: YF.download() has changed argument auto_adjust default to True\n",
            "  data = yf.download(symbol, start=\"2022-01-01\", end=\"2025-08-01\")\n",
            "\r[*********************100%***********************]  1 of 1 completed\n"
          ]
        },
        {
          "output_type": "stream",
          "name": "stdout",
          "text": [
            "✅ Data downloaded\n",
            "✅ Accuracy Report:\n",
            "\n",
            "              precision    recall  f1-score   support\n",
            "\n",
            "          -1       0.51      0.42      0.46        77\n",
            "           0       0.00      0.00      0.00         1\n",
            "           1       0.57      0.66      0.61        92\n",
            "\n",
            "    accuracy                           0.55       170\n",
            "   macro avg       0.36      0.36      0.36       170\n",
            "weighted avg       0.54      0.55      0.54       170\n",
            "\n"
          ]
        },
        {
          "output_type": "stream",
          "name": "stderr",
          "text": [
            "/usr/local/lib/python3.11/dist-packages/sklearn/metrics/_classification.py:1565: UndefinedMetricWarning: Precision is ill-defined and being set to 0.0 in labels with no predicted samples. Use `zero_division` parameter to control this behavior.\n",
            "  _warn_prf(average, modifier, f\"{metric.capitalize()} is\", len(result))\n",
            "/usr/local/lib/python3.11/dist-packages/sklearn/metrics/_classification.py:1565: UndefinedMetricWarning: Precision is ill-defined and being set to 0.0 in labels with no predicted samples. Use `zero_division` parameter to control this behavior.\n",
            "  _warn_prf(average, modifier, f\"{metric.capitalize()} is\", len(result))\n",
            "/usr/local/lib/python3.11/dist-packages/sklearn/metrics/_classification.py:1565: UndefinedMetricWarning: Precision is ill-defined and being set to 0.0 in labels with no predicted samples. Use `zero_division` parameter to control this behavior.\n",
            "  _warn_prf(average, modifier, f\"{metric.capitalize()} is\", len(result))\n"
          ]
        }
      ]
    },
    {
      "cell_type": "code",
      "source": [
        "import requests\n",
        "\n",
        "# ✅ Your Telegram bot token and chat ID\n",
        "bot_token = '8493905949:AAGQ6HwbiCTfD06Qyi3BzbEU2mOknvQT1Ts'\n",
        "chat_id = '5570545756'\n",
        "\n",
        "# ✅ Message to send\n",
        "message = \"✅ Telegram bot is now connected and ready to send trading signals!\"\n",
        "\n",
        "# ✅ API URL\n",
        "url = f\"https://api.telegram.org/bot{bot_token}/sendMessage\"\n",
        "\n",
        "# ✅ Send message\n",
        "response = requests.post(url, data={'chat_id': chat_id, 'text': message})\n",
        "\n",
        "# ✅ Print response for debugging\n",
        "print(response.status_code)\n",
        "print(response.json())"
      ],
      "metadata": {
        "colab": {
          "base_uri": "https://localhost:8080/"
        },
        "id": "8V_5Wt87IoFw",
        "outputId": "a3ea2ddd-c9e9-4fc3-f544-fc324e7848dd"
      },
      "execution_count": null,
      "outputs": [
        {
          "output_type": "stream",
          "name": "stdout",
          "text": [
            "200\n",
            "{'ok': True, 'result': {'message_id': 9, 'from': {'id': 8493905949, 'is_bot': True, 'first_name': 'Red↘️ and green↗️', 'username': 'Redgreenchartbot'}, 'chat': {'id': 5570545756, 'first_name': 'Tanuj', 'username': 'Tanujjain121', 'type': 'private'}, 'date': 1754144085, 'text': '✅ Telegram bot is now connected and ready to send trading signals!'}}\n"
          ]
        }
      ]
    },
    {
      "cell_type": "code",
      "source": [
        "import requests\n",
        "\n",
        "# Telegram settings\n",
        "bot_token = '8493905949:AAGQ6HwbiCTfD06Qyi3BzbEU2mOknvQT1Ts'\n",
        "chat_id = '5570545756'\n",
        "\n",
        "def send_telegram_signal(prediction, date, close_price):\n",
        "    signal = \"📈 BUY\" if prediction == 1 else \"📉 SELL\" if prediction == -1 else \"⏸️ HOLD\"\n",
        "    message = f\"\"\"\n",
        "🔔 Trading Signal\n",
        "-----------------------\n",
        "📅 Date: {date.strftime('%Y-%m-%d')}\n",
        "💰 Close Price: {close_price:.2f}\n",
        "📊 Signal: {signal}\n",
        "\"\"\"\n",
        "    url = f\"https://api.telegram.org/bot{bot_token}/sendMessage\"\n",
        "    requests.post(url, data={'chat_id': chat_id, 'text': message})"
      ],
      "metadata": {
        "id": "eoZZ8S3kI7F_"
      },
      "execution_count": null,
      "outputs": []
    },
    {
      "cell_type": "code",
      "source": [
        "# 📍 Predict the latest signal\n",
        "latest_data = X_test.iloc[-1:]  # last row for prediction\n",
        "latest_date = data.iloc[-1].name\n",
        "latest_close = data.iloc[-1]['Close'].iloc[0] # Extract scalar value\n",
        "\n",
        "# 📤 Send signal to Telegram\n",
        "send_telegram_signal(prediction, latest_date, latest_close)"
      ],
      "metadata": {
        "id": "W2ANemcaJBq0"
      },
      "execution_count": null,
      "outputs": []
    },
    {
      "cell_type": "code",
      "source": [
        "# 📤 Send last 5 trading signals from test data\n",
        "N = 5  # Number of latest predictions to send\n",
        "latest_rows = X_test.tail(N)\n",
        "predictions = model.predict(latest_rows)\n",
        "dates = data.tail(N).index\n",
        "closes = data.tail(N)['Close'][symbol].values # Access the inner level of the MultiIndex and get the values\n",
        "\n",
        "for prediction, date, close in zip(predictions, dates, closes):\n",
        "    send_telegram_signal(prediction, date, close)"
      ],
      "metadata": {
        "id": "opKNn8qHJp5M"
      },
      "execution_count": null,
      "outputs": []
    },
    {
      "cell_type": "code",
      "source": [
        "!pip install ta"
      ],
      "metadata": {
        "colab": {
          "base_uri": "https://localhost:8080/"
        },
        "id": "YeEfxQUHHrd0",
        "outputId": "7358d30d-2f63-413e-a307-6e7d501a04ce"
      },
      "execution_count": null,
      "outputs": [
        {
          "output_type": "stream",
          "name": "stdout",
          "text": [
            "Collecting ta\n",
            "  Downloading ta-0.11.0.tar.gz (25 kB)\n",
            "  Preparing metadata (setup.py) ... \u001b[?25l\u001b[?25hdone\n",
            "Requirement already satisfied: numpy in /usr/local/lib/python3.11/dist-packages (from ta) (2.0.2)\n",
            "Requirement already satisfied: pandas in /usr/local/lib/python3.11/dist-packages (from ta) (2.2.2)\n",
            "Requirement already satisfied: python-dateutil>=2.8.2 in /usr/local/lib/python3.11/dist-packages (from pandas->ta) (2.9.0.post0)\n",
            "Requirement already satisfied: pytz>=2020.1 in /usr/local/lib/python3.11/dist-packages (from pandas->ta) (2025.2)\n",
            "Requirement already satisfied: tzdata>=2022.7 in /usr/local/lib/python3.11/dist-packages (from pandas->ta) (2025.2)\n",
            "Requirement already satisfied: six>=1.5 in /usr/local/lib/python3.11/dist-packages (from python-dateutil>=2.8.2->pandas->ta) (1.17.0)\n",
            "Building wheels for collected packages: ta\n",
            "  Building wheel for ta (setup.py) ... \u001b[?25l\u001b[?25hdone\n",
            "  Created wheel for ta: filename=ta-0.11.0-py3-none-any.whl size=29412 sha256=419b04277e134cd10b7432178658b8ae9bfdab6065d1e1616e86ee7bd33dc1aa\n",
            "  Stored in directory: /root/.cache/pip/wheels/a1/d7/29/7781cc5eb9a3659d032d7d15bdd0f49d07d2b24fec29f44bc4\n",
            "Successfully built ta\n",
            "Installing collected packages: ta\n",
            "Successfully installed ta-0.11.0\n"
          ]
        }
      ]
    },
    {
      "cell_type": "code",
      "source": [
        "!pip install python-telegram-bot"
      ],
      "metadata": {
        "colab": {
          "base_uri": "https://localhost:8080/"
        },
        "id": "2ZOqxlxlIUrv",
        "outputId": "5aef5e9f-8e32-4de6-cc3a-3c5a489a0395"
      },
      "execution_count": null,
      "outputs": [
        {
          "output_type": "stream",
          "name": "stdout",
          "text": [
            "Collecting python-telegram-bot\n",
            "  Downloading python_telegram_bot-22.3-py3-none-any.whl.metadata (17 kB)\n",
            "Requirement already satisfied: httpx<0.29,>=0.27 in /usr/local/lib/python3.11/dist-packages (from python-telegram-bot) (0.28.1)\n",
            "Requirement already satisfied: anyio in /usr/local/lib/python3.11/dist-packages (from httpx<0.29,>=0.27->python-telegram-bot) (4.9.0)\n",
            "Requirement already satisfied: certifi in /usr/local/lib/python3.11/dist-packages (from httpx<0.29,>=0.27->python-telegram-bot) (2025.7.14)\n",
            "Requirement already satisfied: httpcore==1.* in /usr/local/lib/python3.11/dist-packages (from httpx<0.29,>=0.27->python-telegram-bot) (1.0.9)\n",
            "Requirement already satisfied: idna in /usr/local/lib/python3.11/dist-packages (from httpx<0.29,>=0.27->python-telegram-bot) (3.10)\n",
            "Requirement already satisfied: h11>=0.16 in /usr/local/lib/python3.11/dist-packages (from httpcore==1.*->httpx<0.29,>=0.27->python-telegram-bot) (0.16.0)\n",
            "Requirement already satisfied: sniffio>=1.1 in /usr/local/lib/python3.11/dist-packages (from anyio->httpx<0.29,>=0.27->python-telegram-bot) (1.3.1)\n",
            "Requirement already satisfied: typing_extensions>=4.5 in /usr/local/lib/python3.11/dist-packages (from anyio->httpx<0.29,>=0.27->python-telegram-bot) (4.14.1)\n",
            "Downloading python_telegram_bot-22.3-py3-none-any.whl (717 kB)\n",
            "\u001b[2K   \u001b[90m━━━━━━━━━━━━━━━━━━━━━━━━━━━━━━━━━━━━━━━━\u001b[0m \u001b[32m717.1/717.1 kB\u001b[0m \u001b[31m13.6 MB/s\u001b[0m eta \u001b[36m0:00:00\u001b[0m\n",
            "\u001b[?25hInstalling collected packages: python-telegram-bot\n",
            "Successfully installed python-telegram-bot-22.3\n"
          ]
        }
      ]
    },
    {
      "cell_type": "code",
      "source": [
        "import yfinance as yf\n",
        "import pandas as pd\n",
        "from ta.trend import SMAIndicator, MACD\n",
        "from ta.momentum import RSIIndicator\n",
        "from sklearn.ensemble import RandomForestClassifier\n",
        "from sklearn.model_selection import train_test_split\n",
        "from sklearn.metrics import classification_report\n",
        "import telegram\n",
        "from telegram.constants import ParseMode # Import ParseMode from telegram.constants\n",
        "from datetime import datetime\n",
        "import asyncio # Import asyncio\n",
        "\n",
        "# === CONFIGURATION ===\n",
        "TOKEN = \"8493905949:AAGQ6HwbiCTfD06Qyi3BzbEU2mOknvQT1Ts\"\n",
        "CHAT_ID = \"5570545756\"\n",
        "SYMBOL = \"AAPL\"\n",
        "\n",
        "def fetch_data(symbol):\n",
        "    data = yf.download(symbol, start=\"2022-01-01\", end=datetime.today().strftime(\"%Y-%m-%d\"))\n",
        "    # Ensure the 'Close' column is a 1-dimensional Series\n",
        "    close_prices = pd.Series(data['Close'].values.flatten(), index=data.index)\n",
        "    data['SMA_10'] = SMAIndicator(close=close_prices, window=10).sma_indicator()\n",
        "    data['SMA_50'] = SMAIndicator(close=close_prices, window=50).sma_indicator()\n",
        "    data['RSI'] = RSIIndicator(close=close_prices).rsi()\n",
        "    data['MACD'] = MACD(close=close_prices).macd()\n",
        "    data.dropna(inplace=True)\n",
        "    return data\n",
        "\n",
        "def add_target(data, symbol):\n",
        "    data['Target'] = 0\n",
        "    data.loc[data[('Close', symbol)].shift(-1) > data[('Close', symbol)], 'Target'] = 1\n",
        "    data.loc[data[('Close', symbol)].shift(-1) < data[('Close', symbol)], 'Target'] = -1\n",
        "    return data\n",
        "\n",
        "def train_model(data, symbol):\n",
        "    features = ['SMA_10', 'SMA_50', 'RSI', 'MACD']\n",
        "    # Access features using the symbol if they are part of the MultiIndex\n",
        "    # Based on the display(data.columns) output, SMA_10, SMA_50, RSI, and MACD are not part of the MultiIndex\n",
        "    X = data[features]\n",
        "    y = data['Target']\n",
        "    model = RandomForestClassifier(n_estimators=100, random_state=42)\n",
        "    model.fit(X[:-1], y[:-1])  # leave last row for prediction\n",
        "    return model\n",
        "\n",
        "async def send_signal(prediction, symbol): # Make function async\n",
        "    signal = \"📈 BUY\" if prediction == 1 else \"📉 SELL\" if prediction == -1 else \"⏸ HOLD\"\n",
        "    message = f\"💹 *{symbol} Trading Signal*\\n\\nSignal: *{signal}*\\nTime: {datetime.now().strftime('%Y-%m-%d %H:%M')}\"\n",
        "    bot = telegram.Bot(token=TOKEN)\n",
        "    await bot.send_message(chat_id=CHAT_ID, text=message, parse_mode=ParseMode.MARKDOWN) # Await the coroutine\n",
        "\n",
        "async def main(): # Make main async\n",
        "    data = fetch_data(SYMBOL)\n",
        "    data = add_target(data, SYMBOL)\n",
        "    model = train_model(data, SYMBOL)\n",
        "    X_last = data[['SMA_10', 'SMA_50', 'RSI', 'MACD']].iloc[-1:]\n",
        "    prediction = model.predict(X_last)[0]\n",
        "    await send_signal(prediction, SYMBOL) # Await the async function\n",
        "\n",
        "# Remove the if __name__ == \"__main__\": block and asyncio.run()\n",
        "# You can now directly await main() in a Colab cell"
      ],
      "metadata": {
        "id": "kklg5Py8H1SR"
      },
      "execution_count": null,
      "outputs": []
    },
    {
      "cell_type": "code",
      "source": [
        "import yfinance as yf\n",
        "import pandas as pd\n",
        "from ta.trend import SMAIndicator, MACD\n",
        "from ta.momentum import RSIIndicator\n",
        "from sklearn.ensemble import RandomForestClassifier\n",
        "from sklearn.model_selection import train_test_split\n",
        "from sklearn.metrics import classification_report\n",
        "import telegram\n",
        "from telegram.constants import ParseMode\n",
        "from datetime import datetime\n",
        "import asyncio\n",
        "\n",
        "# === CONFIGURATION ===\n",
        "TOKEN = \"8493905949:AAGQ6HwbiCTfD06Qyi3BzbEU2mOknvQT1Ts\"\n",
        "CHAT_ID = \"5570545756\"\n",
        "SYMBOL = \"AAPL\"\n",
        "\n",
        "def fetch_data(symbol):\n",
        "    data = yf.download(symbol, start=\"2022-01-01\", end=datetime.today().strftime(\"%Y-%m-%d\"))\n",
        "    close_prices = data['Close']\n",
        "    data['SMA_10'] = SMAIndicator(close=close_prices, window=10).sma_indicator()\n",
        "    data['SMA_50'] = SMAIndicator(close=close_prices, window=50).sma_indicator()\n",
        "    data['RSI'] = RSIIndicator(close=close_prices).rsi()\n",
        "    data['MACD'] = MACD(close=close_prices).macd()\n",
        "    data.dropna(inplace=True)\n",
        "    return data\n",
        "\n",
        "def add_target(data):\n",
        "    data['Target'] = 0\n",
        "    data.loc[data['Close'].shift(-1) > data['Close'], 'Target'] = 1\n",
        "    data.loc[data['Close'].shift(-1) < data['Close'], 'Target'] = -1\n",
        "    return data\n",
        "\n",
        "def train_model(data):\n",
        "    features = ['SMA_10', 'SMA_50', 'RSI', 'MACD']\n",
        "    X = data[features]\n",
        "    y = data['Target']\n",
        "    model = RandomForestClassifier(n_estimators=100, random_state=42)\n",
        "    model.fit(X[:-1], y[:-1])  # Leave last row for prediction\n",
        "    return model\n",
        "\n",
        "async def send_signal(prediction, symbol):\n",
        "    signal = \"📈 BUY\" if prediction == 1 else \"📉 SELL\" if prediction == -1 else \"⏸ HOLD\"\n",
        "    message = f\"💹 *{symbol} Trading Signal*\\n\\nSignal: *{signal}*\\nTime: {datetime.now().strftime('%Y-%m-%d %H:%M')}\"\n",
        "    bot = telegram.Bot(token=TOKEN)\n",
        "    await bot.send_message(chat_id=CHAT_ID, text=message, parse_mode=ParseMode.MARKDOWN)\n",
        "\n",
        "async def main():\n",
        "    data = fetch_data(SYMBOL)\n",
        "    data = add_target(data)\n",
        "    model = train_model(data)\n",
        "    X_last = data[['SMA_10', 'SMA_50', 'RSI', 'MACD']].iloc[-1:]\n",
        "    prediction = model.predict(X_last)[0]\n",
        "    await send_signal(prediction, SYMBOL)\n",
        "\n",
        "# 🟩 Run this in Colab to trigger the async main function\n",
        "await main()"
      ],
      "metadata": {
        "colab": {
          "base_uri": "https://localhost:8080/",
          "height": 713
        },
        "id": "jEUkuwmQsMp7",
        "outputId": "e270e36c-603e-44a7-88a9-1765247af9a4"
      },
      "execution_count": null,
      "outputs": [
        {
          "output_type": "error",
          "ename": "ModuleNotFoundError",
          "evalue": "No module named 'ta'",
          "traceback": [
            "\u001b[0;31m---------------------------------------------------------------------------\u001b[0m",
            "\u001b[0;31mModuleNotFoundError\u001b[0m                       Traceback (most recent call last)",
            "\u001b[0;32m/tmp/ipython-input-362874355.py\u001b[0m in \u001b[0;36m<cell line: 0>\u001b[0;34m()\u001b[0m\n\u001b[1;32m      1\u001b[0m \u001b[0;32mimport\u001b[0m \u001b[0myfinance\u001b[0m \u001b[0;32mas\u001b[0m \u001b[0myf\u001b[0m\u001b[0;34m\u001b[0m\u001b[0;34m\u001b[0m\u001b[0m\n\u001b[1;32m      2\u001b[0m \u001b[0;32mimport\u001b[0m \u001b[0mpandas\u001b[0m \u001b[0;32mas\u001b[0m \u001b[0mpd\u001b[0m\u001b[0;34m\u001b[0m\u001b[0;34m\u001b[0m\u001b[0m\n\u001b[0;32m----> 3\u001b[0;31m \u001b[0;32mfrom\u001b[0m \u001b[0mta\u001b[0m\u001b[0;34m.\u001b[0m\u001b[0mtrend\u001b[0m \u001b[0;32mimport\u001b[0m \u001b[0mSMAIndicator\u001b[0m\u001b[0;34m,\u001b[0m \u001b[0mMACD\u001b[0m\u001b[0;34m\u001b[0m\u001b[0;34m\u001b[0m\u001b[0m\n\u001b[0m\u001b[1;32m      4\u001b[0m \u001b[0;32mfrom\u001b[0m \u001b[0mta\u001b[0m\u001b[0;34m.\u001b[0m\u001b[0mmomentum\u001b[0m \u001b[0;32mimport\u001b[0m \u001b[0mRSIIndicator\u001b[0m\u001b[0;34m\u001b[0m\u001b[0;34m\u001b[0m\u001b[0m\n\u001b[1;32m      5\u001b[0m \u001b[0;32mfrom\u001b[0m \u001b[0msklearn\u001b[0m\u001b[0;34m.\u001b[0m\u001b[0mensemble\u001b[0m \u001b[0;32mimport\u001b[0m \u001b[0mRandomForestClassifier\u001b[0m\u001b[0;34m\u001b[0m\u001b[0;34m\u001b[0m\u001b[0m\n",
            "\u001b[0;31mModuleNotFoundError\u001b[0m: No module named 'ta'",
            "",
            "\u001b[0;31m---------------------------------------------------------------------------\u001b[0;32m\nNOTE: If your import is failing due to a missing package, you can\nmanually install dependencies using either !pip or !apt.\n\nTo view examples of installing some common dependencies, click the\n\"Open Examples\" button below.\n\u001b[0;31m---------------------------------------------------------------------------\u001b[0m\n"
          ],
          "errorDetails": {
            "actions": [
              {
                "action": "open_url",
                "actionText": "Open Examples",
                "url": "/notebooks/snippets/importing_libraries.ipynb"
              }
            ]
          }
        }
      ]
    },
    {
      "cell_type": "code",
      "source": [
        "!pip install ta"
      ],
      "metadata": {
        "colab": {
          "base_uri": "https://localhost:8080/"
        },
        "id": "JywogizpsM0f",
        "outputId": "2de87e44-bc69-4385-a45c-3f5f359ded78"
      },
      "execution_count": null,
      "outputs": [
        {
          "output_type": "stream",
          "name": "stdout",
          "text": [
            "Collecting ta\n",
            "  Downloading ta-0.11.0.tar.gz (25 kB)\n",
            "  Preparing metadata (setup.py) ... \u001b[?25l\u001b[?25hdone\n",
            "Requirement already satisfied: numpy in /usr/local/lib/python3.11/dist-packages (from ta) (2.0.2)\n",
            "Requirement already satisfied: pandas in /usr/local/lib/python3.11/dist-packages (from ta) (2.2.2)\n",
            "Requirement already satisfied: python-dateutil>=2.8.2 in /usr/local/lib/python3.11/dist-packages (from pandas->ta) (2.9.0.post0)\n",
            "Requirement already satisfied: pytz>=2020.1 in /usr/local/lib/python3.11/dist-packages (from pandas->ta) (2025.2)\n",
            "Requirement already satisfied: tzdata>=2022.7 in /usr/local/lib/python3.11/dist-packages (from pandas->ta) (2025.2)\n",
            "Requirement already satisfied: six>=1.5 in /usr/local/lib/python3.11/dist-packages (from python-dateutil>=2.8.2->pandas->ta) (1.17.0)\n",
            "Building wheels for collected packages: ta\n",
            "  Building wheel for ta (setup.py) ... \u001b[?25l\u001b[?25hdone\n",
            "  Created wheel for ta: filename=ta-0.11.0-py3-none-any.whl size=29412 sha256=a7578c2318b341eeddfe9faed8f4ab79e1b2d5793b9bf68809121285408f1fa2\n",
            "  Stored in directory: /root/.cache/pip/wheels/a1/d7/29/7781cc5eb9a3659d032d7d15bdd0f49d07d2b24fec29f44bc4\n",
            "Successfully built ta\n",
            "Installing collected packages: ta\n",
            "Successfully installed ta-0.11.0\n"
          ]
        }
      ]
    },
    {
      "cell_type": "code",
      "source": [
        "import yfinance as yf\n",
        "import pandas as pd\n",
        "from ta.trend import SMAIndicator, MACD\n",
        "from ta.momentum import RSIIndicator\n",
        "from sklearn.ensemble import RandomForestClassifier\n",
        "from sklearn.model_selection import train_test_split\n",
        "from sklearn.metrics import classification_report\n",
        "import telegram\n",
        "from telegram.constants import ParseMode\n",
        "from datetime import datetime\n",
        "import asyncio\n",
        "\n",
        "# === CONFIGURATION ===\n",
        "TOKEN = \"8493905949:AAGQ6HwbiCTfD06Qyi3BzbEU2mOknvQT1Ts\"\n",
        "CHAT_ID = \"5570545756\"\n",
        "SYMBOL = \"AAPL\"\n",
        "\n",
        "def fetch_data(symbol):\n",
        "    data = yf.download(symbol, start=\"2022-01-01\", end=datetime.today().strftime(\"%Y-%m-%d\"))\n",
        "    # Ensure the 'Close' column is a 1-dimensional Series\n",
        "    close_prices = pd.Series(data['Close'].values.flatten(), index=data.index)\n",
        "    data['SMA_10'] = SMAIndicator(close=close_prices, window=10).sma_indicator()\n",
        "    data['SMA_50'] = SMAIndicator(close=close_prices, window=50).sma_indicator()\n",
        "    data['RSI'] = RSIIndicator(close=close_prices).rsi()\n",
        "    data['MACD'] = MACD(close=close_prices).macd()\n",
        "    data.dropna(inplace=True)\n",
        "    return data\n",
        "\n",
        "def add_target(data, symbol):\n",
        "    data['Target'] = 0\n",
        "    # Correctly access the 'Close' column using the MultiIndex and then perform the shift and comparison\n",
        "    data.loc[data[('Close', symbol)].shift(-1) > data[('Close', symbol)], 'Target'] = 1\n",
        "    data.loc[data[('Close', symbol)].shift(-1) < data[('Close', symbol)], 'Target'] = -1\n",
        "    return data\n",
        "\n",
        "def train_model(data):\n",
        "    features = ['SMA_10', 'SMA_50', 'RSI', 'MACD']\n",
        "    X = data[features]\n",
        "    y = data['Target']\n",
        "    model = RandomForestClassifier(n_estimators=100, random_state=42)\n",
        "    model.fit(X[:-1], y[:-1])  # Leave last row for prediction\n",
        "    return model\n",
        "\n",
        "async def send_signal(prediction, symbol):\n",
        "    signal = \"📈 BUY\" if prediction == 1 else \"📉 SELL\" if prediction == -1 else \"⏸ HOLD\"\n",
        "    message = f\"💹 *{symbol} Trading Signal*\\n\\nSignal: *{signal}*\\nTime: {datetime.now().strftime('%Y-%m-%d %H:%M')}\"\n",
        "    bot = telegram.Bot(token=TOKEN)\n",
        "    await bot.send_message(chat_id=CHAT_ID, text=message, parse_mode=ParseMode.MARKDOWN)\n",
        "\n",
        "async def main():\n",
        "    data = fetch_data(SYMBOL)\n",
        "    data = add_target(data, SYMBOL)\n",
        "    model = train_model(data)\n",
        "    X_last = data[['SMA_10', 'SMA_50', 'RSI', 'MACD']].iloc[-1:]\n",
        "    prediction = model.predict(X_last)[0]\n",
        "    await send_signal(prediction, SYMBOL)\n",
        "\n",
        "# 🟩 Run this in Colab to trigger the async main function\n",
        "await main()"
      ],
      "metadata": {
        "colab": {
          "base_uri": "https://localhost:8080/"
        },
        "id": "RRsJYkT3snXK",
        "outputId": "321f9aa5-7546-402c-d85d-ea3d7aac8d5f"
      },
      "execution_count": null,
      "outputs": [
        {
          "output_type": "stream",
          "name": "stderr",
          "text": [
            "/tmp/ipython-input-1570023989.py:19: FutureWarning: YF.download() has changed argument auto_adjust default to True\n",
            "  data = yf.download(symbol, start=\"2022-01-01\", end=datetime.today().strftime(\"%Y-%m-%d\"))\n",
            "\r[*********************100%***********************]  1 of 1 completed\n"
          ]
        }
      ]
    },
    {
      "cell_type": "code",
      "source": [
        "await main()"
      ],
      "metadata": {
        "colab": {
          "base_uri": "https://localhost:8080/"
        },
        "id": "mQ8JcYo_tZ5c",
        "outputId": "521a6b36-da56-4bb3-bde5-fb6c314645ce"
      },
      "execution_count": null,
      "outputs": [
        {
          "output_type": "stream",
          "name": "stderr",
          "text": [
            "/tmp/ipython-input-1570023989.py:19: FutureWarning: YF.download() has changed argument auto_adjust default to True\n",
            "  data = yf.download(symbol, start=\"2022-01-01\", end=datetime.today().strftime(\"%Y-%m-%d\"))\n",
            "\r[*********************100%***********************]  1 of 1 completed\n"
          ]
        }
      ]
    },
    {
      "cell_type": "code",
      "metadata": {
        "colab": {
          "base_uri": "https://localhost:8080/"
        },
        "id": "e032a8c1",
        "outputId": "2c884902-39d0-49ff-dbbe-813940cbb3ac"
      },
      "source": [
        "!pip install python-telegram-bot --quiet"
      ],
      "execution_count": null,
      "outputs": [
        {
          "output_type": "stream",
          "name": "stdout",
          "text": [
            "\u001b[?25l   \u001b[90m━━━━━━━━━━━━━━━━━━━━━━━━━━━━━━━━━━━━━━━━\u001b[0m \u001b[32m0.0/717.1 kB\u001b[0m \u001b[31m?\u001b[0m eta \u001b[36m-:--:--\u001b[0m\r\u001b[2K   \u001b[91m━━━━━━━━━━━━━━━━━━━━━━━━━━━━━━━━━━━━━━━\u001b[0m\u001b[91m╸\u001b[0m \u001b[32m716.8/717.1 kB\u001b[0m \u001b[31m22.7 MB/s\u001b[0m eta \u001b[36m0:00:01\u001b[0m\r\u001b[2K   \u001b[90m━━━━━━━━━━━━━━━━━━━━━━━━━━━━━━━━━━━━━━━━\u001b[0m \u001b[32m717.1/717.1 kB\u001b[0m \u001b[31m15.3 MB/s\u001b[0m eta \u001b[36m0:00:00\u001b[0m\n",
            "\u001b[?25h"
          ]
        }
      ]
    }
  ]
}
fix: prediction bug
